{
 "cells": [
  {
   "cell_type": "markdown",
   "id": "4991c416",
   "metadata": {},
   "source": [
    "AUTOMATED RETENTION ANALYSIS\n",
    "https://claude.ai/public/artifacts/710f1dbb-55e8-456c-b016-bfba426060a3"
   ]
  }
 ],
 "metadata": {
  "language_info": {
   "name": "python"
  }
 },
 "nbformat": 4,
 "nbformat_minor": 5
}
