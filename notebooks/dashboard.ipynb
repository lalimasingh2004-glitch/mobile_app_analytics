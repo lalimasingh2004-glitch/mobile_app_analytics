{
 "cells": [
  {
   "cell_type": "code",
   "execution_count": 1,
   "id": "15c2fe5f",
   "metadata": {},
   "outputs": [
    {
     "name": "stdout",
     "output_type": "stream",
     "text": [
      "         user_id       date  session_duration  screens_viewed  app_opens  \\\n",
      "0  user_00133a5c 2025-07-03            158.55              85          1   \n",
      "1  user_00133a5c 2025-07-05            150.03              78          1   \n",
      "2  user_00133a5c 2025-07-06            130.16              68          1   \n",
      "3  user_00133a5c 2025-07-07            154.37              82          1   \n",
      "4  user_00133a5c 2025-07-09            113.88              58          1   \n",
      "\n",
      "  device_type user_acquisition_channel user_segment  daily_active_users  \\\n",
      "0         iOS                   direct  power_users                2189   \n",
      "1         iOS                   direct  power_users                2834   \n",
      "2         iOS                   direct  power_users                2861   \n",
      "3         iOS                   direct  power_users                2202   \n",
      "4         iOS                   direct  power_users                2214   \n",
      "\n",
      "   retention_rate  \n",
      "0           23.96  \n",
      "1           30.83  \n",
      "2           31.03  \n",
      "3           23.78  \n",
      "4           23.76  \n",
      "Index(['user_id', 'date', 'session_duration', 'screens_viewed', 'app_opens',\n",
      "       'device_type', 'user_acquisition_channel', 'user_segment',\n",
      "       'daily_active_users', 'retention_rate'],\n",
      "      dtype='object')\n"
     ]
    }
   ],
   "source": [
    "import pandas as pd\n",
    "import numpy as np\n",
    "\n",
    "df = pd.read_csv('C:/Users/sjn17/Downloads/mobile_app_analytics/data/mobile_analytics.csv')  \n",
    "df['date'] = pd.to_datetime(df['date'])\n",
    "\n",
    "print(df.head())\n",
    "print(df.columns)"
   ]
  },
  {
   "cell_type": "markdown",
   "id": "b651ffce",
   "metadata": {},
   "source": [
    "Aggregated Data for Dashboard"
   ]
  },
  {
   "cell_type": "code",
   "execution_count": 2,
   "id": "cb8f3b34",
   "metadata": {},
   "outputs": [
    {
     "name": "stdout",
     "output_type": "stream",
     "text": [
      "Data prepared successfully!\n"
     ]
    }
   ],
   "source": [
    "# Aggregate data by date for time-series charts\n",
    "daily_stats = df.groupby('date').agg({\n",
    "    'daily_active_users': 'first',  \n",
    "    'session_duration': 'mean',\n",
    "    'screens_viewed': 'mean',\n",
    "    'app_opens': 'sum',\n",
    "    'retention_rate': 'first',\n",
    "    'user_id': 'count'  # Total sessions per day\n",
    "}).reset_index()\n",
    "\n",
    "daily_stats.columns = ['date', 'daily_active_users', 'avg_session_duration', \n",
    "                       'avg_screens_viewed', 'total_app_opens', 'retention_rate', 'total_sessions']\n",
    "\n",
    "# User segments distribution\n",
    "segments_df = df.groupby('user_segment').agg({\n",
    "    'user_id': 'nunique'\n",
    "}).reset_index()\n",
    "segments_df.columns = ['Segment', 'Count']\n",
    "\n",
    "# Device type distribution\n",
    "device_df = df.groupby('device_type').agg({\n",
    "    'user_id': 'nunique'\n",
    "}).reset_index()\n",
    "device_df.columns = ['Device', 'Count']\n",
    "\n",
    "# Acquisition channel distribution\n",
    "channel_df = df.groupby('user_acquisition_channel').agg({\n",
    "    'user_id': 'nunique'\n",
    "}).reset_index()\n",
    "channel_df.columns = ['Channel', 'Count']\n",
    "\n",
    "print(\"Data prepared successfully!\")"
   ]
  }
 ],
 "metadata": {
  "kernelspec": {
   "display_name": "analytics_env",
   "language": "python",
   "name": "python3"
  },
  "language_info": {
   "codemirror_mode": {
    "name": "ipython",
    "version": 3
   },
   "file_extension": ".py",
   "mimetype": "text/x-python",
   "name": "python",
   "nbconvert_exporter": "python",
   "pygments_lexer": "ipython3",
   "version": "3.13.5"
  }
 },
 "nbformat": 4,
 "nbformat_minor": 5
}
